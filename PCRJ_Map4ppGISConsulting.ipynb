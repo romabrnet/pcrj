{
  "nbformat": 4,
  "nbformat_minor": 0,
  "metadata": {
    "colab": {
      "name": "PCRJ-Map4ppGISConsulting.ipynb",
      "provenance": [],
      "authorship_tag": "ABX9TyO9j9W0SmTs2UN07ocUoCgl",
      "include_colab_link": true
    },
    "kernelspec": {
      "name": "python3",
      "display_name": "Python 3"
    },
    "language_info": {
      "name": "python"
    }
  },
  "cells": [
    {
      "cell_type": "markdown",
      "metadata": {
        "id": "view-in-github",
        "colab_type": "text"
      },
      "source": [
        "<a href=\"https://colab.research.google.com/github/romabrnet/pcrj/blob/master/PCRJ_Map4ppGISConsulting.ipynb\" target=\"_parent\"><img src=\"https://colab.research.google.com/assets/colab-badge.svg\" alt=\"Open In Colab\"/></a>"
      ]
    },
    {
      "cell_type": "markdown",
      "metadata": {
        "id": "dwBd4E_SR2M6"
      },
      "source": [
        "Created on Thu Dez  9 16:02:12 2020\n",
        "@author: Romildo\n",
        "\n",
        "Modified on Fri Feb 12 10:45:00 2020\n",
        "@author: Romildo"
      ]
    },
    {
      "cell_type": "markdown",
      "metadata": {
        "id": "uAT-xHhqR7U5"
      },
      "source": [
        "# Mount Drive and Setup Google Cloud Shell Interface"
      ]
    },
    {
      "cell_type": "code",
      "metadata": {
        "id": "QUVvMZCtRi6m"
      },
      "source": [
        "# Authenticated\n",
        "from google.colab import auth\n",
        "auth.authenticate_user()\n",
        "print('Authenticated')"
      ],
      "execution_count": null,
      "outputs": []
    },
    {
      "cell_type": "code",
      "metadata": {
        "id": "CyvLJP5ZSJrJ"
      },
      "source": [
        "from google.colab import drive\n",
        "drive.mount('/content/drive')"
      ],
      "execution_count": null,
      "outputs": []
    },
    {
      "cell_type": "code",
      "metadata": {
        "id": "R08O74MJSLuK"
      },
      "source": [
        "PROJECT_ID = \"splendid-drake-273119\" #@param {type:\"string\"}\n",
        "! gcloud config set project $PROJECT_ID\n",
        "%env GCLOUD_PROJECT=$PROJECT_ID"
      ],
      "execution_count": null,
      "outputs": []
    },
    {
      "cell_type": "code",
      "metadata": {
        "id": "Ku_Dff-USPiW"
      },
      "source": [
        "# Display large pandas dataframes\n",
        "%load_ext google.colab.data_table\n",
        "# %unload_ext google.colab.data_table"
      ],
      "execution_count": null,
      "outputs": []
    },
    {
      "cell_type": "code",
      "metadata": {
        "id": "5-mv44WISdR9"
      },
      "source": [
        "!gcloud app deploy app.yaml"
      ],
      "execution_count": null,
      "outputs": []
    }
  ]
}